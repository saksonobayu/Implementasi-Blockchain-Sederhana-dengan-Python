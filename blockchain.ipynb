{
  "nbformat": 4,
  "nbformat_minor": 0,
  "metadata": {
    "colab": {
      "provenance": [],
      "toc_visible": true
    },
    "kernelspec": {
      "name": "python3",
      "display_name": "Python 3"
    },
    "language_info": {
      "name": "python"
    }
  },
  "cells": [
    {
      "cell_type": "code",
      "execution_count": null,
      "metadata": {
        "id": "GYEoK5d2BNZS"
      },
      "outputs": [],
      "source": [
        "import json \n",
        "from datetime import datetime\n",
        "from hashlib import sha256\n",
        "\n",
        "class Blockchain(object):\n",
        "  def __init__(self):\n",
        "    self.chain = []\n",
        "    self.chain.append(self.new_block())\n",
        "    \n",
        "  def new_block(self):\n",
        "    block = {\n",
        "        'timestamp': datetime.utcnow().isoformat(),\n",
        "        'prev_hash': self.chain[-1][\"hash\"] if len(self.chain)>0 else None,\n",
        "        'nonce': len(self.chain)\n",
        "    }\n",
        "    block[\"hash\"]=sha256(json.dumps(block).encode()).hexdigest()\n",
        "    return block\n",
        "\n",
        "  def proof_of_work(self):\n",
        "    while True:\n",
        "      new_block = self.new_block()\n",
        "      if new_block[\"hash\"].startswith(\"0000\"):\n",
        "        break\n",
        "    self.chain.append(new_block)\n",
        "\n",
        "bc = Blockchain() #pembuatan rantai blockchain\n",
        "bc.proof_of_work() #pow untuk menambah blok baru"
      ]
    },
    {
      "cell_type": "code",
      "source": [
        "bc.proof_of_work()"
      ],
      "metadata": {
        "id": "3c11VWbyENFf"
      },
      "execution_count": null,
      "outputs": []
    },
    {
      "cell_type": "code",
      "source": [
        "bc.__dict__"
      ],
      "metadata": {
        "colab": {
          "base_uri": "https://localhost:8080/"
        },
        "id": "aa94N-2ICmyb",
        "outputId": "6b89621b-d3a9-47f7-c415-a053fb6d101c"
      },
      "execution_count": null,
      "outputs": [
        {
          "output_type": "execute_result",
          "data": {
            "text/plain": [
              "{'chain': [{'timestamp': '2022-11-24T09:58:54.142486',\n",
              "   'prev_hash': None,\n",
              "   'nonce': 0,\n",
              "   'hash': '3de58049868d393f975833c769a7a652a68b7d5627119ce6d1d1da3d2d136a51'},\n",
              "  {'timestamp': '2022-11-24T09:58:54.594260',\n",
              "   'prev_hash': '3de58049868d393f975833c769a7a652a68b7d5627119ce6d1d1da3d2d136a51',\n",
              "   'nonce': 1,\n",
              "   'hash': '0000a32dece4a11d0a9264b4b52b384b32e2a9f8a9ee065c08b1c763e7c0b7ef'},\n",
              "  {'timestamp': '2022-11-24T09:58:59.381123',\n",
              "   'prev_hash': '0000a32dece4a11d0a9264b4b52b384b32e2a9f8a9ee065c08b1c763e7c0b7ef',\n",
              "   'nonce': 2,\n",
              "   'hash': '0000b9a691a03ad0af534292727aa024e33f1233b5047fb046d12bee3bb84559'}]}"
            ]
          },
          "metadata": {},
          "execution_count": 14
        }
      ]
    }
  ]
}